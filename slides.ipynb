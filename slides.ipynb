{
 "cells": [
  {
   "cell_type": "markdown",
   "metadata": {
    "slideshow": {
     "slide_type": "slide"
    }
   },
   "source": [
    "<p style=\"text-align: center; font-size: 300%\"> Unterjährige Verzinsung </p>\n"
   ]
  },
  {
   "cell_type": "markdown",
   "metadata": {
    "slideshow": {
     "slide_type": "slide"
    }
   },
   "source": [
    "# Vorbemerkungen\n",
    "* Bitte installieren Sie __JETZT__ die Studentenversion der [Socrative](https://socrative.com/) Clicker App aus dem App-Store Ihres Mobiltelefons.\n",
    "* Diese Folien bestehen aus einem [Jupyter Notebook](https://jupyter.org/). Sie enthalten lauffähigen Pythoncode.\n",
    "* Sie sind zum Download verfügbar unter https://github.com/s-broda/ifz/ oder können unter https://notebooks.azure.com/s-broda/projects/pres-ifz direkt im Browser ausgeführt werden (erfordert kostenlosen Microsoft-Account). Klicken Sie auf `Clone` in der oberen rechten Ecke, dann auf `slides.ipynb`.\n",
    "\n"
   ]
  },
  {
   "cell_type": "markdown",
   "metadata": {
    "slideshow": {
     "slide_type": "slide"
    }
   },
   "source": [
    "# Inhalt\n",
    "* Recap\n",
    "* Motivation\n",
    "* Unterjährige Verzinsung\n",
    "* Annuitätenrechnung bei unterjähriger Verzinsung\n"
   ]
  },
  {
   "cell_type": "markdown",
   "metadata": {
    "slideshow": {
     "slide_type": "slide"
    }
   },
   "source": [
    "# Recap Tilgungsrechnung\n",
    "* __Annahmen__: Barkredit von CHF $K_0$ über $n$ Jahre zum jährlichen Zinssatz $i$.\n",
    "* __Einmaltilgung__: Rückzahlung des gesamten Kredits nebst Zins und Zinseszins zum Fälligkeitsdatum $n$:\n",
    "$$K_n=K_0 (1+i)^n$$\n",
    "* __Annuitätentilgung__: gleichbleibende jährliche Raten in Höhe von\n",
    "$$ r=K_0q^n\\frac{q-1}{q^n-1}, \\quad q:=1+i.  \\tag{*}$$\n",
    "* Intuition: Zahlungsprofil entspricht einer ewigen Rente i. H. v. $r$ mit erster Zahlung nach einem Jahr, abzgl. einer ewigen Rente mit erster Zahlung nach $n+1$ Jahren. Beispiel mit $n=5$:\n",
    "\n",
    "|Periode | 1 | 2 | 3 | 4 | 5 | 6 | 7 | 8 | 9 |...|  \n",
    "|--------|---|---|---|---|---|---|---|---|---|---|\n",
    "| $\\mbox{}$      | r | r | r | r | r | r | r | r | r |...|\n",
    "| $\\mbox{}$      | 0 | 0 | 0 | 0 |0  |-r |-r |-r |-r |...|\n",
    "|Saldo   | r | r | r | r | r | 0 | 0 | 0 | 0 |...|\n",
    "\n",
    "Barwert:\n",
    "$$\n",
    "   K_0=\\frac{r}{i}-\\frac{1}{(1+i)^n}\\frac{r}{i}.\n",
    "$$\n",
    "Einsetzen und umstellen ergibt (*)."
   ]
  },
  {
   "cell_type": "markdown",
   "metadata": {
    "slideshow": {
     "slide_type": "slide"
    }
   },
   "source": [
    "# Beispiel: Einmaltilgung"
   ]
  },
  {
   "cell_type": "code",
   "execution_count": 1,
   "metadata": {
    "scrolled": true,
    "slideshow": {
     "slide_type": "-"
    }
   },
   "outputs": [
    {
     "data": {
      "application/vnd.jupyter.widget-view+json": {
       "model_id": "d4036ce9adc449d7945932194022e1d0",
       "version_major": 2,
       "version_minor": 0
      },
      "text/plain": [
       "interactive(children=(FloatSlider(value=100.0, description='K0', max=200.0), FloatSlider(value=0.1, descriptio…"
      ]
     },
     "metadata": {},
     "output_type": "display_data"
    }
   ],
   "source": [
    "import matplotlib.pyplot as plt\n",
    "import numpy as np\n",
    "from ipywidgets import interact, fixed\n",
    "%matplotlib inline\n",
    "\n",
    "@interact(K0=(0., 200), i=(0.0, .2, 0.001), n=(0, 30))\n",
    "def Kj(K0, i, n):\n",
    "    j = np.arange(1, n+1)\n",
    "    Kj = K0 * (1 + i) ** j\n",
    "    plt.plot(j, Kj)\n",
    "    plt.xlabel('$j$'); plt.ylabel('$K_j$')\n",
    "    plt.annotate(s='$K_{'+'{}'.format(n)+'}='+'{}$'.format(Kj[-1]), xy=(n, Kj[-1]), xytext=(n/2, Kj[-1]), arrowprops={\"arrowstyle\": \"->\"})\n",
    "    "
   ]
  },
  {
   "cell_type": "markdown",
   "metadata": {
    "slideshow": {
     "slide_type": "slide"
    }
   },
   "source": [
    "# Beispiel: Annuitätentilgung\n"
   ]
  },
  {
   "cell_type": "code",
   "execution_count": 2,
   "metadata": {},
   "outputs": [
    {
     "data": {
      "application/vnd.jupyter.widget-view+json": {
       "model_id": "81765a8e94bf43c2bc3bbdc61d191537",
       "version_major": 2,
       "version_minor": 0
      },
      "text/plain": [
       "interactive(children=(FloatSlider(value=100.0, description='K0', min=1.0), FloatSlider(value=0.12, description…"
      ]
     },
     "metadata": {},
     "output_type": "display_data"
    }
   ],
   "source": [
    "def annuity(K0, i, n):\n",
    "    q = 1 + i; j = np.arange(0, n)\n",
    "    rate = K0 * (1/n if q == 1 else q**n * (q - 1) / (q**n - 1))  \n",
    "    zins = K0 * (0 if q == 1 else (q**n - q**j) / (q**n - 1) * i)\n",
    "    tilgung = rate - zins\n",
    "    return rate, zins, tilgung\n",
    "\n",
    "@interact(K0=(1., 100.), i=(-1, 1, 0.1), n=(1, 60))        \n",
    "def plot_annuities(K0 = 100, i = 0.12, n = 30):\n",
    "    rate, zins, tilgung = annuity(K0, i, n)\n",
    "    j = np.arange(1, n + 1)\n",
    "    p1 = plt.bar(j, zins)\n",
    "    p2 = plt.bar(j, tilgung, bottom=np.maximum(0, zins))\n",
    "    p3 = plt.bar(j+.4, rate, width=.4, color=\"blue\")\n",
    "    plt.legend((p1[0], p2[0], p3[0]), ('Zins', 'Tilgung', 'Rate'))"
   ]
  },
  {
   "cell_type": "markdown",
   "metadata": {
    "slideshow": {
     "slide_type": "slide"
    }
   },
   "source": [
    "# Clicker-Frage\n",
    "* Bitte öffnen Sie die Socrative App und treten Sie dem Raum __BRODA173__ bei.\n",
    "* Sei $K_0=100$ und $n=30$. Wenn der Zinsatz $i=-100\\%$ beträgt, dann\n",
    "\n",
    "   a. tendiert die Tilgung gegen $\\infty$.<br>\n",
    "   b. tendiert der Zins gegen $-\\infty$.<br>\n",
    "   c. lässt sich die Annuität nicht berechnen.<br>\n",
    "   d. beträgt die jährliche Rate $0$.<br>\n",
    "   e. beträgt die jährliche Rate $K_0/n$<br>\n",
    "      \n"
   ]
  },
  {
   "cell_type": "markdown",
   "metadata": {
    "slideshow": {
     "slide_type": "slide"
    }
   },
   "source": [
    "# Unterjährige Verzinsung\n",
    "## Motivation\n",
    "* Oben sind wir von _jährlichen_ Raten ausgegangen. Die meisten Kreditverträge (Hypothekendarlehen, Barkredite) sind aber als Annuitätendarlehen mit _monatlicher_ Tilgung ausgeformt.\n",
    "* Wir können mit den bekannten Formeln weiterrechnen, müssen aber die Sichtweise ändern, indem wir die Zeitperioden als _Monate_ auffassen.\n",
    "* Dementsprechend ist der zu verwendende Zins der _Monatszins_, für welchen wir $i_{12}$ schreiben. \n",
    "\n",
    "\n",
    "    "
   ]
  },
  {
   "cell_type": "markdown",
   "metadata": {
    "slideshow": {
     "slide_type": "-"
    }
   },
   "source": [
    "## Beispiel\n",
    "* Annahme: Barkredit in Höhe von 100 CHF mit Laufzeit von 12 Monaten, monatlich verzinst zu $i_{12}=1\\%$, Einmaltilgung (inkl. aufgelaufener Zinsen) nach 12 Monaten.\n",
    "* Rückzahlungsbetrag nach 12 Monaten entspricht\n",
    "$$\n",
    "100 (1+i_{12})^{12}\n",
    "$$"
   ]
  },
  {
   "cell_type": "code",
   "execution_count": 3,
   "metadata": {
    "slideshow": {
     "slide_type": "-"
    }
   },
   "outputs": [
    {
     "data": {
      "text/plain": [
       "112.68250301319698"
      ]
     },
     "execution_count": 3,
     "metadata": {},
     "output_type": "execute_result"
    }
   ],
   "source": [
    "100 * (1 + 0.01) ** 12"
   ]
  },
  {
   "cell_type": "markdown",
   "metadata": {
    "slideshow": {
     "slide_type": "slide"
    }
   },
   "source": [
    "# Clicker-Frage\n",
    "* Bitte öffnen Sie die Socrative App und treten Sie dem Raum __BRODA173__ bei.\n",
    "* Wie hoch ist der Jahreszinssatz in obigem Beispiel?\n",
    "\n",
    "   a. Definitiv zu hoch.<br>\n",
    "   b. 12%<br>\n",
    "   c. 12.68%<br>\n",
    "   d. Weder b noch c sind falsch.<br>\n",
    "   e. Alle Antworten sind richtig.\n",
    "   \n",
    "      \n"
   ]
  },
  {
   "cell_type": "markdown",
   "metadata": {
    "slideshow": {
     "slide_type": "slide"
    }
   },
   "source": [
    "# Lösung\n",
    "* Fangfrage! Alle Antworten sind richtig; es kommt darauf an, _welcher_ Zins gemeint ist.\n",
    "* 12% ist der sog. _nominelle Jahreszinssatz_. Er dient als Berechnungsgrundlage für den Monatszins: $i_{12}=\\frac{i_{nom}}{12}$\n",
    "* 12.68% ist der sog. _effektive Jahreszinssatz_: derjenige Jahreszins, der zum gleichen Rückzahlungsbetrag führt wie unterjährige Verzinsung zum Monatszins $i_{12}$, also:\n",
    "\n",
    "$$100(1+i_{eff})=100(1+i_{12})^{12}=112.68 \\Leftrightarrow i_{eff}=12.68\\%.$$\n",
    "* Die Differenz von $0.68\\%$ resultiert aus dem Zinseszins auf die unterjährigen Zinszahlungen."
   ]
  },
  {
   "cell_type": "markdown",
   "metadata": {
    "slideshow": {
     "slide_type": "slide"
    }
   },
   "source": [
    "# Allgemeiner Fall\n",
    "* Auch andere unterjährige Zinsperioden sind denkbar (z. B. halb- oder vierteljährlich). Allgemein teilen wir das Jahr in $m$ Zinsperioden (engl. compounding periods) auf und schreiben $i_m=\\frac{i_{nom}}{m}$ für den entsprechenden Zins.\n",
    "* Dann gilt \n",
    "$$1+i_{eff}=\\left(1+\\frac{i_{nom}}{m}\\right)^m \\Leftrightarrow i_{eff}=\\left(1+\\frac{i_{nom}}{m}\\right)^m-1.$$\n",
    "* Umgekehrt gilt \n",
    "$$ i_{nom}=m\\left(\\sqrt[m]{1+i_{eff}}-1\\right).$$"
   ]
  },
  {
   "cell_type": "markdown",
   "metadata": {
    "slideshow": {
     "slide_type": "slide"
    }
   },
   "source": [
    "# Randbemerkung für mathematisch Interessierte\n",
    "* Für grosses $m$ konvergiert $(1+{i_{nom}}/{m})^m$ gegen die Exponentialfunktion:\n",
    "$$\\lim_{m\\rightarrow\\infty}\\left(1+\\frac{i_{nom}}{m}\\right)^m=e^{i_{nom}}$$\n",
    "sodass\n",
    "$$\n",
    "(1+i_{eff})^n=e^{n\\cdot i_{nom}}\n",
    "$$\n",
    "* In diesem Fall spricht man von stetiger Verzinsung (continuous compounding)."
   ]
  },
  {
   "cell_type": "code",
   "execution_count": 4,
   "metadata": {
    "scrolled": true
   },
   "outputs": [
    {
     "data": {
      "application/vnd.jupyter.widget-view+json": {
       "model_id": "f7dc63449a884bdd92b1d968a8e30162",
       "version_major": 2,
       "version_minor": 0
      },
      "text/plain": [
       "interactive(children=(FloatSlider(value=0.12, description='i', max=0.5, step=0.01), IntSlider(value=1, descrip…"
      ]
     },
     "metadata": {},
     "output_type": "display_data"
    }
   ],
   "source": [
    "@interact(K0=fixed(100), i=(0.0, .5, 0.01), m=(1, 12), n=(1, 100))\n",
    "def K1(K0=100, i=0.12, m=1, n=30):    \n",
    "    j = np.arange(0, n * m + 1); Kj = K0 * (1 + i / m) ** j    \n",
    "    p1 = plt.step(j, Kj, where='post', color='red'); p2 = plt.plot(j, K0*np.exp(i*j/m))\n",
    "    plt.xlabel('$j$'); plt.ylabel('$K_j$');\n",
    "    plt.title(\"Value after {} year(s), interest compounded {} time(s) per year\".format(n, m)); plt.legend(('discrete compounding', 'continuous compounding'))"
   ]
  },
  {
   "cell_type": "markdown",
   "metadata": {
    "slideshow": {
     "slide_type": "slide"
    }
   },
   "source": [
    "# Übungsaufgaben\n",
    "* Bitte öffnen Sie die Socrative App und treten Sie dem Raum __BRODA173__ bei.\n",
    "* Für diese Fragen müssen Sie Ihren Namen eingeben und das numerische Ergebnis im Format xx.xx% angeben, gerundet auf zwei Nachkommastellen.\n",
    "* Zur Berechnung dürfen Sie den Taschenrechner verwenden.\n",
    "\n",
    "  1. Sei $m=2$ und $i_{eff}=12$%. Berechnen Sie $i_{nom}$.\n",
    "  2. Sei $m=4$ und $i_{nom}=12$%. Berechnen Sie $i_{eff}$.\n",
    "      \n"
   ]
  },
  {
   "cell_type": "markdown",
   "metadata": {
    "slideshow": {
     "slide_type": "slide"
    }
   },
   "source": [
    "# Lösung\n",
    "1."
   ]
  },
  {
   "cell_type": "code",
   "execution_count": 5,
   "metadata": {},
   "outputs": [],
   "source": [
    "i_nom = 2 * (np.sqrt(1 + 0.12)-1)"
   ]
  },
  {
   "cell_type": "markdown",
   "metadata": {},
   "source": [
    "2."
   ]
  },
  {
   "cell_type": "code",
   "execution_count": 6,
   "metadata": {},
   "outputs": [],
   "source": [
    "i_eff = (1 +  0.12 / 4) ** 4 - 1"
   ]
  },
  {
   "cell_type": "markdown",
   "metadata": {
    "slideshow": {
     "slide_type": "slide"
    }
   },
   "source": [
    "# Annuitätenrechnung bei unterjähriger Verzinsung\n",
    "* Auch bei monatlich getilgten Annuitätendarlehen können wir die bestehenden Formeln weiterverwenden, vorausgesetzt wir rechnen mit dem monatlichen Zins:\n",
    "\n",
    "$$r=K_0q^n\\frac{q-1}{q^n-1}, \\quad q:=1+i_{12}=1+\\frac{i_{nom}}{12}.$$\n",
    "\n",
    "* Beispiel: Annuitätendarlehen i. H. v. CHF 20'000, Laufzeit 30 Monate, nomineller Jahreszinssatz 9%, damit Monatszinssatz 0.75%.\n",
    "* Wir betrachten eine vereinfachte Version unserer Funktion `annuity`, die nur die monatliche Rate retourniert:\n",
    "    "
   ]
  },
  {
   "cell_type": "code",
   "execution_count": 7,
   "metadata": {},
   "outputs": [],
   "source": [
    "def annuity(K0, i, n):\n",
    "    q = 1 + i\n",
    "    rate = K0 * (q**n * (q - 1) / (q**n - 1))  \n",
    "    return rate"
   ]
  },
  {
   "cell_type": "markdown",
   "metadata": {},
   "source": [
    "* Ergebnis:"
   ]
  },
  {
   "cell_type": "code",
   "execution_count": 8,
   "metadata": {},
   "outputs": [
    {
     "data": {
      "text/plain": [
       "746.9632151166078"
      ]
     },
     "execution_count": 8,
     "metadata": {},
     "output_type": "execute_result"
    }
   ],
   "source": [
    "annuity(20_000, 0.0075, 30)"
   ]
  },
  {
   "cell_type": "markdown",
   "metadata": {},
   "source": [
    "* Der effektive Jahreszins beträgt"
   ]
  },
  {
   "cell_type": "code",
   "execution_count": 9,
   "metadata": {},
   "outputs": [
    {
     "data": {
      "text/plain": [
       "0.09380689767098382"
      ]
     },
     "execution_count": 9,
     "metadata": {},
     "output_type": "execute_result"
    }
   ],
   "source": [
    "(1 + .09 / 12) ** 12 - 1"
   ]
  },
  {
   "cell_type": "markdown",
   "metadata": {
    "slideshow": {
     "slide_type": "slide"
    }
   },
   "source": [
    "# Berechnung des Zinses\n",
    "* Es ist auch möglich die Annuitätenformel für gegebenes $K_0$ und $r$ nach dem Zins zu lösen, jedoch nicht in geschlossener Form.\n",
    "* Das Problem ist aber einfach numerisch zu lösen, da die Zielfunktion $K_0q^n(q-1)(q^n-1)-r=0\\,$ näherungsweise linear ist:\n"
   ]
  },
  {
   "cell_type": "code",
   "execution_count": 10,
   "metadata": {},
   "outputs": [
    {
     "data": {
      "image/png": "[encoded data removed]",
      "text/plain": [
       "<Figure size 432x288 with 1 Axes>"
      ]
     },
     "metadata": {
      "needs_background": "light"
     },
     "output_type": "display_data"
    }
   ],
   "source": [
    "objective = lambda i: annuity(20_000, i, 30) - 746.9632151166078\n",
    "x = np.arange(.001, 0.9, 0.00001)\n",
    "plt.plot(x, objective(x));"
   ]
  },
  {
   "cell_type": "markdown",
   "metadata": {},
   "source": [
    "* Numerisches Lösen ergibt"
   ]
  },
  {
   "cell_type": "code",
   "execution_count": 11,
   "metadata": {},
   "outputs": [
    {
     "data": {
      "text/plain": [
       "0.007500000000000045"
      ]
     },
     "execution_count": 11,
     "metadata": {},
     "output_type": "execute_result"
    }
   ],
   "source": [
    "from scipy.optimize import newton\n",
    "newton(objective, 0.005) # zweites Argument ist der Startwert"
   ]
  },
  {
   "cell_type": "markdown",
   "metadata": {},
   "source": [
    "* Das Problem lässt sich auch mit dem Solver auf dem Taschenrechner lösen: dafür löst man die Gleichung\n",
    "    `20000X^30*(X-1)/(X^30-1)-746.96` nach `X`. `X` entspricht dann $q=1+i_{12}$."
   ]
  },
  {
   "cell_type": "markdown",
   "metadata": {
    "slideshow": {
     "slide_type": "slide"
    }
   },
   "source": [
    "# Bemerkung\n",
    "* Sowohl das Schweizer KKG als auch die PAngV der EU verlangen, dass bei Konsumentenkrediten der effektive Zinssatz inklusive aller Nebenkosten angegeben wird. In der Schweiz darf dieser derzeit nicht mehr als 10% betragen.\n",
    "* Definiert ist der Effektivzins als der interne Zinsfuss der Zahlungsreihe aller relevanten cash flows, also derjenige Zinssatz, für den der Barwert (die Summe aller abgezinsten Zahlungen) dem Kreditbetrag entspricht.\n",
    "* Für kompliziertere als die hier betrachteten Verträge lässt dieser sich nur numerisch berechnen. Wir können aber überprüfen ob unser oben berechneter Effektivzins korrekt ist:"
   ]
  },
  {
   "cell_type": "code",
   "execution_count": 12,
   "metadata": {},
   "outputs": [
    {
     "data": {
      "text/plain": [
       "20000.000000000007"
      ]
     },
     "execution_count": 12,
     "metadata": {},
     "output_type": "execute_result"
    }
   ],
   "source": [
    "j = np.arange(1, 31)\n",
    "d = (1 + 0.09380689767098382 ) ** (-j / 12)\n",
    "746.9632151166078 * np.sum(d)"
   ]
  },
  {
   "cell_type": "markdown",
   "metadata": {
    "slideshow": {
     "slide_type": "slide"
    }
   },
   "source": [
    "# Übungsaufgaben\n",
    "* Bitte öffnen Sie die Socrative App und treten Sie dem Raum __BRODA173__ bei.\n",
    "* Für diese Fragen müssen Sie Ihren Namen eingeben und das numerische Ergebnis im Format xx.xx% angeben, gerundet auf zwei Nachkommastellen.\n",
    "* Zur Berechnung dürfen Sie den Taschenrechner verwenden. \n",
    "* Für die folgenden Fragen sei ein monatlich zu tilgendes Annuitätendarlehen i. H. v. CHF 3'000 mit Laufzeit 2 Jahre gegeben.\n",
    "\n",
    "  1. Berechnen Sie die monatliche Rate unter der Annahme eines nominellen Jahreszinssatzes von 8%. \n",
    "  2. Die monatliche Rate betrage nun CHF 140. Berechnen Sie den effektiven Jahreszinssatz.\n",
    " \n",
    " \n",
    "      \n",
    "\n"
   ]
  },
  {
   "cell_type": "markdown",
   "metadata": {
    "slideshow": {
     "slide_type": "slide"
    }
   },
   "source": [
    "# Lösung:\n",
    "1."
   ]
  },
  {
   "cell_type": "code",
   "execution_count": 13,
   "metadata": {},
   "outputs": [],
   "source": [
    "r = annuity(3_000, 0.08/12, 24)"
   ]
  },
  {
   "cell_type": "markdown",
   "metadata": {},
   "source": [
    "2."
   ]
  },
  {
   "cell_type": "code",
   "execution_count": 14,
   "metadata": {},
   "outputs": [],
   "source": [
    "i_12 = newton(lambda i: annuity(3_000, i, 24) - 140, 0.08)\n",
    "i_eff = (1 + i_12) ** 12 - 1 "
   ]
  },
  {
   "cell_type": "markdown",
   "metadata": {
    "slideshow": {
     "slide_type": "slide"
    }
   },
   "source": [
    "# Was Sie nach der heutigen Lektion beherrschen sollten\n",
    "* Nominelle und effektive Zinssätze unterscheiden und umrechnen.\n",
    "* Zinssätze und Monatsraten mit Taschenrechner und Software berechnen."
   ]
  },
  {
   "cell_type": "markdown",
   "metadata": {
    "slideshow": {
     "slide_type": "slide"
    }
   },
   "source": [
    "# Exit poll\n",
    "* Bitte öffnen Sie die Socrative App und treten Sie dem Raum BRODA173 bei.\n",
    "* Zu welchem Teil konnten Sie der heutigen Lektion folgen?\n",
    "   \n",
    "   a. 90-100%<br>\n",
    "   b. 75-90%<br>\n",
    "   c. 50-75%<br>\n",
    "   d. 25-50%<br>\n",
    "   e. 0-25%\n"
   ]
  }
 ],
 "metadata": {
  "@webio": {
   "lastCommId": null,
   "lastKernelId": null
  },
  "celltoolbar": "Slideshow",
  "kernelspec": {
   "display_name": "Python 3",
   "language": "python",
   "name": "python3"
  },
  "language_info": {
   "codemirror_mode": {
    "name": "ipython",
    "version": 3
   },
   "file_extension": ".py",
   "mimetype": "text/x-python",
   "name": "python",
   "nbconvert_exporter": "python",
   "pygments_lexer": "ipython3",
   "version": "3.6.8"
  }
 },
 "nbformat": 4,
 "nbformat_minor": 2
}
