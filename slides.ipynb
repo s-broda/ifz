{
 "cells": [
  {
   "cell_type": "markdown",
   "metadata": {
    "slideshow": {
     "slide_type": "slide"
    }
   },
   "source": [
    "<p style=\"text-align: center; font-size: 300%\"> Unterjährige Verzinsung </p>\n"
   ]
  },
  {
   "cell_type": "markdown",
   "metadata": {
    "slideshow": {
     "slide_type": "slide"
    }
   },
   "source": [
    "# Vorbemerkungen\n",
    "* Bitte installieren Sie __JETZT__ die Studentenversion der [Socrative](https://socrative.com/) Clicker App aus dem App-Store ihres Mobiltelefons.\n",
    "* Diese Folien bestehen aus einem [Jupyter Notebook](https://jupyter.org/). Sie enthalten lauffähigen Pythoncode.\n",
    "* Sie sind zum Download verfügbar unter https://github.com/s-broda/ifz/, oder können unter https://notebooks.azure.com/s-broda/projects/pres-ifz direkt im Browser ausgeführt werden (erfordert kostenlosen Microsoft-Account).\n",
    "\n"
   ]
  },
  {
   "cell_type": "markdown",
   "metadata": {
    "slideshow": {
     "slide_type": "slide"
    }
   },
   "source": [
    "# Inhalt\n",
    "* Recap\n",
    "* Motivation\n",
    "* Unterjährige Verzinsung\n",
    "* Annuitätenrechnung bei unterjähriger Verzinsung\n"
   ]
  },
  {
   "cell_type": "markdown",
   "metadata": {
    "slideshow": {
     "slide_type": "slide"
    }
   },
   "source": [
    "# Recap Tilgungsrechnung\n",
    "* __Annahmen__: Barkredit von CHF $K_0$ über $n$ Jahre zum (nominellen, jährlichen) Zinssatz $i_{nom}$.\n",
    "* __Einmaltilgung__: Rückzahlung des gesamten Kredits nebst Zins und Zinseszins zum Fälligkeitsdatum $n$:\n",
    "$$K_n=K_0 (1+i_{nom})^n$$\n",
    "* __Annuitätentilgung__: gleichbleibende jährliche Raten in Höhe von\n",
    "$$ r=K_0q^n\\frac{q-1}{q^n-1}, \\quad q:=1+i_{nom}.  \\tag{*}$$\n",
    "* Intuition: Zahlungsprofil entspricht einer ewigen Rente i.H.v. $r$ mit erster Zahlung nach einem Jahr, abzgl. einer ewigen Rente mit erster Zahlung nach $n+1$ Jahren. Beispiel mit $n=5$:\n",
    "\n",
    "|Periode | 1 | 2 | 3 | 4 | 5 | 6 | 7 | 8 | 9 |...|  \n",
    "|--------|---|---|---|---|---|---|---|---|---|---|\n",
    "|        | r | r | r | r | r | r | r | r | r |...|\n",
    "|        | 0 | 0 | 0 | 0 |0  |-r |-r |-r |-r |...|\n",
    "|Saldo   | r | r | r | r | r | 0 | 0 | 0 | 0 |...|\n",
    "\n",
    "Barwert:\n",
    "$$\n",
    "   K_0=\\frac{r}{i_{nom}}-\\frac{1}{(1+i_{nom})^n}\\frac{r}{i_{nom}}.\n",
    "$$\n",
    "Einsetzen und umstellen ergibt (*)."
   ]
  },
  {
   "cell_type": "markdown",
   "metadata": {
    "slideshow": {
     "slide_type": "slide"
    }
   },
   "source": [
    "# Beispiel: Einmaltilgung"
   ]
  },
  {
   "cell_type": "code",
   "execution_count": 52,
   "metadata": {
    "slideshow": {
     "slide_type": "-"
    }
   },
   "outputs": [
    {
     "data": {
      "application/vnd.jupyter.widget-view+json": {
       "model_id": "398a8023a06043679778c3d7875595a0",
       "version_major": 2,
       "version_minor": 0
      },
      "text/plain": [
       "interactive(children=(FloatSlider(value=100.0, description='K0', max=200.0), FloatSlider(value=0.1, descriptio…"
      ]
     },
     "metadata": {},
     "output_type": "display_data"
    }
   ],
   "source": [
    "import matplotlib.pyplot as plt\n",
    "import numpy as np\n",
    "from ipywidgets import interact\n",
    "%matplotlib inline\n",
    "\n",
    "@interact(K0=(0., 200), i=(0.0, .2, 0.001), n=(0, 30))\n",
    "def Kn(K0, i, n):\n",
    "    j = np.arange(1, n+1)\n",
    "    Kj = K0 * (1 + i) ** j\n",
    "    plt.plot(j, Kj)\n",
    "    plt.xlabel('$j$'); plt.ylabel('$K_j$')\n",
    "    plt.annotate(s='$K_{'+'{}'.format(n)+'}='+'{}$'.format(Kj[-1]), xy=(n, Kj[-1]), xytext=(n/2, Kj[-1]), arrowprops={\"arrowstyle\": \"->\"})\n",
    "    "
   ]
  },
  {
   "cell_type": "markdown",
   "metadata": {},
   "source": [
    "# Beispiel: Annuitätentilgung\n"
   ]
  },
  {
   "cell_type": "code",
   "execution_count": null,
   "metadata": {},
   "outputs": [],
   "source": []
  }
 ],
 "metadata": {
  "@webio": {
   "lastCommId": null,
   "lastKernelId": null
  },
  "celltoolbar": "Slideshow",
  "kernelspec": {
   "display_name": "Python 3",
   "language": "python",
   "name": "python3"
  },
  "language_info": {
   "codemirror_mode": {
    "name": "ipython",
    "version": 3
   },
   "file_extension": ".py",
   "mimetype": "text/x-python",
   "name": "python",
   "nbconvert_exporter": "python",
   "pygments_lexer": "ipython3",
   "version": "3.6.8"
  }
 },
 "nbformat": 4,
 "nbformat_minor": 2
}
